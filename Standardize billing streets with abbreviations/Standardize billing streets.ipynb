{
 "cells": [
  {
   "cell_type": "code",
   "execution_count": 26,
   "metadata": {},
   "outputs": [],
   "source": [
    "from bs4 import BeautifulSoup\n",
    "import pandas as pd\n",
    "import csv\n",
    "import requests"
   ]
  },
  {
   "cell_type": "code",
   "execution_count": 27,
   "metadata": {},
   "outputs": [],
   "source": [
    "df = pd.read_html('https://trafficsignstore.com/abbreviations.html')[0]"
   ]
  },
  {
   "cell_type": "code",
   "execution_count": 28,
   "metadata": {},
   "outputs": [],
   "source": [
    "df.dropna(axis=0, inplace=True)"
   ]
  },
  {
   "cell_type": "code",
   "execution_count": 29,
   "metadata": {},
   "outputs": [],
   "source": [
    "dict1 = dict(zip(df[0], df[1]))\n",
    "dict2 = dict(zip(df[2], df[3]))\n",
    "street_dict_final = {**dict1, **dict2}"
   ]
  },
  {
   "cell_type": "code",
   "execution_count": 30,
   "metadata": {
    "scrolled": true
   },
   "outputs": [
    {
     "data": {
      "text/plain": [
       "{'ALLEY': 'ALLEY',\n",
       " 'AVENUE': 'AVE or AV',\n",
       " 'BOULEVARD': 'BLVD',\n",
       " 'BRIDGE': 'BR',\n",
       " 'CANYON': 'CYN',\n",
       " 'CENTER': 'CTR',\n",
       " 'CIRCLE': 'CIR',\n",
       " 'COURT': 'CT',\n",
       " 'CRESCENT': 'CRES',\n",
       " 'DRIVE': 'DR',\n",
       " 'EAST': 'E',\n",
       " 'EXPRESSWAY': 'EXPWY',\n",
       " 'FREEWAY': 'FWY',\n",
       " 'HIGHWAY': 'HWY',\n",
       " 'HILL': 'HILL',\n",
       " 'INFORMATION': 'INFO',\n",
       " 'INTERNATIONAL': 'INTL',\n",
       " 'ISLAND': 'ISL',\n",
       " 'JUNCTION': 'JCT',\n",
       " 'LANE': 'LN',\n",
       " 'LAKE': 'LK',\n",
       " 'LOOP': 'LP',\n",
       " 'MOUNT': 'MT',\n",
       " 'NORTH': 'N',\n",
       " 'NATIONAL': 'NATL',\n",
       " 'NORTHEAST': 'NE',\n",
       " 'NORTHWEST': 'NW',\n",
       " 'PARKWAY': 'PKWY',\n",
       " 'PLACE': 'PL',\n",
       " 'PLAZA': 'PLZ',\n",
       " 'PORT': 'PT',\n",
       " 'RIVER': 'R',\n",
       " 'ROAD': 'RD',\n",
       " 'ROUTE': 'RTE',\n",
       " 'SQUARE': 'SQ',\n",
       " 'SOUTH': 'S',\n",
       " 'SOUTHEAST': 'SE',\n",
       " 'SOUTHWEST': 'SW',\n",
       " 'STREET': 'ST',\n",
       " 'TERRACE': 'TER',\n",
       " 'THRUWAY': 'THWY',\n",
       " 'TRAIL': 'TR',\n",
       " 'TURNPIKE': 'TPK',\n",
       " 'WAY': 'WAY',\n",
       " 'WEST': 'W'}"
      ]
     },
     "execution_count": 30,
     "metadata": {},
     "output_type": "execute_result"
    }
   ],
   "source": [
    "street_dict_final"
   ]
  },
  {
   "cell_type": "code",
   "execution_count": 31,
   "metadata": {},
   "outputs": [],
   "source": [
    "BS_df = pd.read_csv(\"class_billing_street.csv\")"
   ]
  },
  {
   "cell_type": "code",
   "execution_count": 32,
   "metadata": {},
   "outputs": [
    {
     "data": {
      "text/html": [
       "<div>\n",
       "<style scoped>\n",
       "    .dataframe tbody tr th:only-of-type {\n",
       "        vertical-align: middle;\n",
       "    }\n",
       "\n",
       "    .dataframe tbody tr th {\n",
       "        vertical-align: top;\n",
       "    }\n",
       "\n",
       "    .dataframe thead th {\n",
       "        text-align: right;\n",
       "    }\n",
       "</style>\n",
       "<table border=\"1\" class=\"dataframe\">\n",
       "  <thead>\n",
       "    <tr style=\"text-align: right;\">\n",
       "      <th></th>\n",
       "      <th>BillingStreet</th>\n",
       "    </tr>\n",
       "  </thead>\n",
       "  <tbody>\n",
       "    <tr>\n",
       "      <th>0</th>\n",
       "      <td>709 GRAND AVE SW</td>\n",
       "    </tr>\n",
       "    <tr>\n",
       "      <th>1</th>\n",
       "      <td>1420 SOUTH TRENTON ST M/C 2T-43</td>\n",
       "    </tr>\n",
       "    <tr>\n",
       "      <th>2</th>\n",
       "      <td>PO BOX 660425</td>\n",
       "    </tr>\n",
       "    <tr>\n",
       "      <th>3</th>\n",
       "      <td>135 NORTH SIERRA ST SUITE A-1</td>\n",
       "    </tr>\n",
       "    <tr>\n",
       "      <th>4</th>\n",
       "      <td>1275 REDIVERSION RD</td>\n",
       "    </tr>\n",
       "    <tr>\n",
       "      <th>5</th>\n",
       "      <td>600 S MAESTRI PL (HERBERT FEDERAL BLDG)</td>\n",
       "    </tr>\n",
       "    <tr>\n",
       "      <th>6</th>\n",
       "      <td>441 VINE STREET RM 3003</td>\n",
       "    </tr>\n",
       "    <tr>\n",
       "      <th>7</th>\n",
       "      <td>486 REPLACEMENT AVE</td>\n",
       "    </tr>\n",
       "    <tr>\n",
       "      <th>8</th>\n",
       "      <td>48 DONLEY ST SUITE 504</td>\n",
       "    </tr>\n",
       "    <tr>\n",
       "      <th>9</th>\n",
       "      <td>BUILDING 214 2ND FLOOR ISF SUPPLIER CLASSIFIED...</td>\n",
       "    </tr>\n",
       "  </tbody>\n",
       "</table>\n",
       "</div>"
      ],
      "text/plain": [
       "                                       BillingStreet\n",
       "0                                   709 GRAND AVE SW\n",
       "1                    1420 SOUTH TRENTON ST M/C 2T-43\n",
       "2                                      PO BOX 660425\n",
       "3                      135 NORTH SIERRA ST SUITE A-1\n",
       "4                                1275 REDIVERSION RD\n",
       "5            600 S MAESTRI PL (HERBERT FEDERAL BLDG)\n",
       "6                            441 VINE STREET RM 3003\n",
       "7                                486 REPLACEMENT AVE\n",
       "8                             48 DONLEY ST SUITE 504\n",
       "9  BUILDING 214 2ND FLOOR ISF SUPPLIER CLASSIFIED..."
      ]
     },
     "execution_count": 32,
     "metadata": {},
     "output_type": "execute_result"
    }
   ],
   "source": [
    "BS_df.head(10)\n",
    "# task: standardize the billing streets using the Common Street Name Sign Abbreviations\n",
    "# for exapme: SOUTHEAST SHOULD BE SE"
   ]
  },
  {
   "cell_type": "code",
   "execution_count": 33,
   "metadata": {},
   "outputs": [],
   "source": [
    "BS_df['Splited Street'] = BS_df['BillingStreet'].str.split() "
   ]
  },
  {
   "cell_type": "code",
   "execution_count": 34,
   "metadata": {},
   "outputs": [],
   "source": [
    "def get_normalized_street(row):\n",
    "    new_words = []\n",
    "    for w in row:\n",
    "        if w in street_dict_final:\n",
    "            new_words.append(street_dict_final[w])\n",
    "        else:\n",
    "            new_words.append(w)\n",
    "    return \" \".join(new_words)"
   ]
  },
  {
   "cell_type": "code",
   "execution_count": 35,
   "metadata": {},
   "outputs": [],
   "source": [
    "BS_df['Normalized Street'] = BS_df['Splited Street'].map(get_normalized_street)"
   ]
  },
  {
   "cell_type": "code",
   "execution_count": 36,
   "metadata": {},
   "outputs": [
    {
     "data": {
      "text/plain": [
       "0                                      709 GRAND AVE SW\n",
       "1                           1420 S TRENTON ST M/C 2T-43\n",
       "2                                         PO BOX 660425\n",
       "3                             135 N SIERRA ST SUITE A-1\n",
       "4                                   1275 REDIVERSION RD\n",
       "5               600 S MAESTRI PL (HERBERT FEDERAL BLDG)\n",
       "6                                   441 VINE ST RM 3003\n",
       "7                                   486 REPLACEMENT AVE\n",
       "8                                48 DONLEY ST SUITE 504\n",
       "9     BUILDING 214 2ND FLOOR ISF SUPPLIER CLASSIFIED...\n",
       "10      333 CONSTITUTION AVE NW US FOREIGN INTELLIGENCE\n",
       "11                                      1234 ANYTOWN ST\n",
       "12                       BLDG #676 VFK COMP RM B-10 VFK\n",
       "13                                   1800 CENTURY PL NE\n",
       "14                                    1604 BROOKLYN AVE\n",
       "15                                     1148 E TEXAS AVE\n",
       "16                                   301 VOYAGER WAY NW\n",
       "17                                    120 E WILLIAMS ST\n",
       "18                                        101 E POST RD\n",
       "19                                       4830 W 15TH ST\n",
       "Name: Normalized Street, dtype: object"
      ]
     },
     "execution_count": 36,
     "metadata": {},
     "output_type": "execute_result"
    }
   ],
   "source": [
    "BS_df['Normalized Street'].head(20)"
   ]
  }
 ],
 "metadata": {
  "kernelspec": {
   "display_name": "Python 3",
   "language": "python",
   "name": "python3"
  },
  "language_info": {
   "codemirror_mode": {
    "name": "ipython",
    "version": 3
   },
   "file_extension": ".py",
   "mimetype": "text/x-python",
   "name": "python",
   "nbconvert_exporter": "python",
   "pygments_lexer": "ipython3",
   "version": "3.7.0"
  }
 },
 "nbformat": 4,
 "nbformat_minor": 2
}
